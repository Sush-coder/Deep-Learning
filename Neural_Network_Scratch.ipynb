{
 "cells": [
  {
   "cell_type": "markdown",
   "metadata": {},
   "source": [
    "## IMPLEMENTING NEURAL NETWORK FROM SCRATCH\n",
    "\n",
    "### In this notebook I have created a neural network with a single hidden layer from scratch and also solved the XOR problem using the same.\n",
    "### The optimization algorithm used for this Neural Network is stochastic gradient descent.\n",
    "\n",
    "#### Hyperparameters are :\n",
    "#### input_layer = Number of input layer nodes\n",
    "#### hidden_layer = Number of hidden layer nodes\n",
    "#### output_layer = Number of output layer nodes\n",
    "#### hidden_activation = Activation function for hidden layer\n",
    "#### output activation = Activation function for output layer\n",
    "#### n_iters = Number of iterations or epochs\n",
    "#### n = learning rate"
   ]
  },
  {
   "cell_type": "code",
   "execution_count": 2482,
   "metadata": {},
   "outputs": [],
   "source": [
    "import numpy as np\n",
    "import pandas as pd\n",
    "import matplotlib.pyplot as plt\n",
    "from matplotlib import style\n",
    "style.use('ggplot')\n",
    "\n",
    "\n",
    "class NeuralNet:\n",
    "    def __init__(self, input_layer = 2, hidden_layer = 0, output_layer = 1, hidden_activation = 'Sigmoid', output_activation = 'Sigmoid', n_iters = 1000, n = 0.1):\n",
    "        np.random.seed(1)\n",
    "        self.input_layer = input_layer\n",
    "        self.hidden_layer = hidden_layer\n",
    "        self.output_layer = output_layer\n",
    "        self.loss= []\n",
    "        self.hidden_activation = hidden_activation\n",
    "        self.output_activation = output_activation\n",
    "        self.n_iters = n_iters\n",
    "        self.learning_rate = n\n",
    "        self.Weights = []\n",
    "#         self.Weights = [np.array([[0.2, 0.4],[0.1, 0.3]]), np.array([[0.6],[0.5]])]\n",
    "        \n",
    "        # INITIALIZING RANDOM WEIGHTS AND BIASES\n",
    "        if self.hidden_layer != 0:\n",
    "            self.W1 = np.random.uniform(0,1,(self.input_layer, self.hidden_layer))\n",
    "            self.W2 = np.random.uniform(0,1,(self.hidden_layer, self.output_layer))\n",
    "            self.b = np.random.uniform(0,1,self.hidden_layer)\n",
    "            self.Weights.append(self.W1)\n",
    "            self.Weights.append(self.W2)\n",
    "            self.bias = [np.array([self.b[0]]*self.hidden_layer), np.array([self.b[1]]*self.output_layer)]\n",
    "        else:\n",
    "            self.W1 = np.random.uniform(0,1,(self.input_layer, self.output_layer))\n",
    "            self.Weights.append(self.W1)\n",
    "            self.b = np.random.uniform(0,1,1)\n",
    "            self.bias = [np.array([self.b[0]]*self.output_layer)]\n",
    "            \n",
    "#         self.b = np.array([0.6, 0.5])\n",
    "#         self.bias = [np.array([self.b[0]]*self.hidden_layer), np.array([self.b[1]]*self.output_layer)]\n",
    "        \n",
    "        print('Random Initialized Weights:',self.Weights)\n",
    "        print('Random Initialized Bias:',self.bias)\n",
    "        print(f'Input layer: {self.input_layer} nodes')\n",
    "        print(f'Hidden layer: {self.hidden_layer} nodes')\n",
    "        print(f'Output layer: {self.output_layer} nodes')\n",
    "        print(f'Learning Rate: {self.learning_rate}')\n",
    "        print(f'Iterations: {self.n_iters}')\n",
    "        print(f'Hidden Activation: {self.hidden_activation}')\n",
    "        print(f'Output Activation: {self.output_activation}')\n",
    "        \n",
    "    # SIGMOID FUNCTION-----------------------------------------------------------------------------------------------\n",
    "    def sigmoid(self, z):\n",
    "        return 1 / (1 + np.exp(-z))\n",
    "    \n",
    "    # SIGMOID DERIVATIVE---------------------------------------------------------------------------------------------\n",
    "    def sigmoid_derivative(self, z):\n",
    "        return self.sigmoid(z) * (1 - self.sigmoid(z))\n",
    "    \n",
    "    # RELU FUNCTON---------------------------------------------------------------------------------------------------\n",
    "    def Relu(self, z):\n",
    "        z[z <= 0] = 0\n",
    "        return z\n",
    "\n",
    "    # RELU DERIVATIVE-------------------------------------------------------------------------------------------------\n",
    "    def Relu_derivative(self, z):\n",
    "        z = Relu(z)\n",
    "        z[z<=0] = 0\n",
    "        z[z>0] = 1\n",
    "        return z\n",
    "    \n",
    "    # ACTIVATION FUNCTIONS FOR HIDDEN LAYER AND OUTPUT LAYER----------------------------------------------------------\n",
    "    def Hidden_activation(self, z):\n",
    "        if self.hidden_activation == 'Sigmoid':\n",
    "            return self.sigmoid(z)\n",
    "        if self.hidden_activation == 'Relu':\n",
    "            return self.Relu(z)\n",
    "    \n",
    "    def Output_activation(self, z):\n",
    "        if self.output_activation == 'Sigmoid':\n",
    "            return self.sigmoid(z)\n",
    "        \n",
    "    def Hidden_activation_derivative(self, z):\n",
    "        if self.hidden_activation == 'Sigmoid':\n",
    "            return self.sigmoid_derivative(z)\n",
    "        if self.hidden_activation == 'Relu':\n",
    "            return self.Relu_derivative(z)\n",
    "    \n",
    "    def Output_activation_derivative(self, z):\n",
    "        if self.output_activation == 'Sigmoid':\n",
    "            return self.sigmoid_derivative(z)\n",
    "    \n",
    "            \n",
    "    # 1 PASS FEED FORWARD ALGORITHM OF INPUTS-----------------------------------------------------------------------------     \n",
    "    def feed_forward(self, inputs):\n",
    "        self.z_out.append(inputs)\n",
    "        self.a_out.append(inputs)\n",
    "        flag = False\n",
    "        for weights, bias in zip(self.Weights, self.bias):\n",
    "            z = np.dot(weights.T, inputs) + bias\n",
    "            if flag == True:\n",
    "                a = self.Output_activation( z )\n",
    "            else:\n",
    "                a = self.Hidden_activation( z )\n",
    "            self.z_out.append(z)\n",
    "            self.a_out.append(a)\n",
    "            \n",
    "            inputs = a\n",
    "            flag = True\n",
    "        outputs = inputs\n",
    "        return outputs\n",
    "    \n",
    "    # COMPUTING LAYER OUTPUT ERRORS----------------------------------------------------------------------------------------\n",
    "    def layer_errors(self, loss):\n",
    "        layer_errors = []\n",
    "        for i in reversed(range(len(self.Weights))):\n",
    "            if i == 0:\n",
    "                pass\n",
    "            else:\n",
    "                layer_errors.append(np.dot(self.Weights[i], loss))\n",
    "            return layer_errors\n",
    "    \n",
    "    # PREDICT OUTPUT AFTER TRAINING-----------------------------------------------------------------------------------------   \n",
    "    def predict(self, inputs):\n",
    "        pred = self.feed_forward(inputs)\n",
    "#         print(pred)\n",
    "#         if pred > 0.5:\n",
    "#             return 1\n",
    "#         else:\n",
    "#             return 0\n",
    "        return pred\n",
    "                \n",
    "        \n",
    "    # BACKPROPAGATION ALGORITHM TO FIND OPTIMAL WEIGHTS---------------------------------------------------------------------            \n",
    "    def back_propagate(self, X, y):\n",
    "        self.X = X\n",
    "        self.y = y\n",
    "        for i in range(self.n_iters):\n",
    "            for inputs, target in zip(self.X, self.y):\n",
    "                #print(inputs, target)\n",
    "                self.z_out= []\n",
    "                self.a_out = []\n",
    "                prediction = self.feed_forward(inputs)\n",
    "                loss = (prediction - target) ** 2\n",
    "                loss_der = 2 * (prediction - target) * self.Output_activation_derivative(self.z_out[len(self.z_out)-1])\n",
    "                #COMPUTING HIDDEN LAYER OUTPUT ERROR \n",
    "                layer_errors = self.layer_errors(loss_der)\n",
    "                #print('layer_errors:', layer_errors)\n",
    "\n",
    "                # UPDATE WEIGHT FOR EACH LAYER\n",
    "                for i in reversed(range(len(self.Weights))):\n",
    "                    # DERIVATIVE OF LOSS WITH RESPECT TO WEIGHTS AND BIAS FOR OUTPUT LAYER                  \n",
    "                    if i==len(self.Weights)-1:\n",
    "                        dloss_dW = ((2*(self.a_out[i+1] - target)) * self.Output_activation_derivative(self.z_out[i+1])).reshape(1,-1)\n",
    "\n",
    "                        dloss_dW = np.matmul(self.a_out[i].reshape(1,-1).T,  dloss_dW )\n",
    "#                       print(\"dloss_dW:\", dloss_dW)\n",
    "                        dloss_dB = (2*(self.a_out[i+1] - target)) * self.Output_activation_derivative(self.z_out[i+1])\n",
    "#                       print(\"dloss_dB:\", dloss_dB)\n",
    "                    # DERIVATIVE OF LOSS WITH RESPECT TO WEIGHTS AND BIAS FOR HIDDEN LAYERS\n",
    "                    else:\n",
    "                        dloss_dW = ((2*(layer_errors[i])) * self.Hidden_activation_derivative(self.z_out[i+1])).reshape(1,-1)\n",
    "\n",
    "                        dloss_dW = np.matmul(self.a_out[i].reshape(1,-1).T,  dloss_dW )\n",
    "#                       print(\"dloss_dW:\", dloss_dW)\n",
    "\n",
    "                        dloss_dB = (2*(layer_errors[i])) * self.Hidden_activation_derivative(self.z_out[i+1])\n",
    "#                       print(\"dloss_dB:\", dloss_dB)\n",
    "                    \n",
    "                    #UPDATING WEIGHTS AND BIASES\n",
    "                    self.Weights[i] = self.Weights[i] - self.learning_rate * ( dloss_dW)\n",
    "\n",
    "                    self.bias[i] = self.bias[i] - self.learning_rate * ( dloss_dB)\n",
    "            # ADDING LOSS VALUES TO LIST\n",
    "            self.loss.append(loss[0])\n",
    "        print('FINAL WEIGHTS:',self.Weights)\n",
    "        print('FINAL BIAS:',self.bias)\n",
    "        \n",
    "    #FUNCTION TO PLOT ERROR CURVE FOR NUMBER OF EPOCHS-----------------------------------------------------------------------   \n",
    "    def plot_error(self,):\n",
    "        plt.figure(figsize = (8,5))\n",
    "        plt.scatter(list(range(self.n_iters)), self.loss)\n",
    "        weights= self.Weights[0]\n",
    "        if self.X.shape[1] == 2:\n",
    "            for w in weights:\n",
    "                line = -(w[0] * X[:,0] + self.bias[0][0])/ w[1]\n",
    "            plt.xlabel('Number of Epochs')\n",
    "            plt.ylabel('Loss')\n",
    "            plt.plot() \n",
    "            plt.show()\n",
    "    \n",
    "    #FUNCTION TO PLOT DECISION BOUNDARY FOR THE GIVEN MODEL------------------------------------------------------------------\n",
    "    def plot_boundary(self,):\n",
    "        plt.figure(figsize = (8, 5))\n",
    "        weights= self.Weights[0].T\n",
    "        bias = self.bias[0] \n",
    "        if self.X.shape[1] == 2:\n",
    "            plt.scatter(self.X[:,0], self.X[:,1], c =self.y[:])\n",
    "            for w, b in zip(weights, bias):\n",
    "                line = -(w[0] * self.X[:,0] + b)/ w[1]\n",
    "                plt.plot(self.X[:,0], line, c = 'k')\n",
    "            #plt.xlim(0,5)\n",
    "            #plt.ylim(0,5)\n",
    "            #plt.legend()\n",
    "            plt.show()\n",
    "        \n"
   ]
  },
  {
   "cell_type": "markdown",
   "metadata": {},
   "source": [
    "### XOR Gate data"
   ]
  },
  {
   "cell_type": "code",
   "execution_count": 2472,
   "metadata": {},
   "outputs": [
    {
     "data": {
      "text/plain": [
       "array([[0, 0, 0],\n",
       "       [0, 1, 1],\n",
       "       [1, 0, 1],\n",
       "       [1, 1, 0]])"
      ]
     },
     "execution_count": 2472,
     "metadata": {},
     "output_type": "execute_result"
    }
   ],
   "source": [
    "data = np.array([[0,0,0],\n",
    "       [0,1,1],\n",
    "       [1,0,1],\n",
    "       [1,1,0]])\n",
    "X = data[:,:-1]\n",
    "y = data[:, -1]\n",
    "data"
   ]
  },
  {
   "cell_type": "markdown",
   "metadata": {},
   "source": [
    "### Instantitating Neural Network with hyperparameters ( Hidden activation = Sigmoid)"
   ]
  },
  {
   "cell_type": "code",
   "execution_count": 2473,
   "metadata": {},
   "outputs": [
    {
     "name": "stdout",
     "output_type": "stream",
     "text": [
      "Random Initialized Weights: [array([[4.17022005e-01, 7.20324493e-01],\n",
      "       [1.14374817e-04, 3.02332573e-01]]), array([[0.14675589],\n",
      "       [0.09233859]])]\n",
      "Random Initialized Bias: [array([0.18626021, 0.18626021]), array([0.34556073])]\n",
      "Input layer: 2 nodes\n",
      "Hidden layer: 2 nodes\n",
      "Output layer: 1 nodes\n",
      "Learning Rate: 0.1\n",
      "Iterations: 10000\n",
      "Hidden Activation: Sigmoid\n",
      "Output Activation: Sigmoid\n"
     ]
    },
    {
     "data": {
      "text/plain": [
       "<__main__.NeuralNet at 0x16ebb490>"
      ]
     },
     "execution_count": 2473,
     "metadata": {},
     "output_type": "execute_result"
    }
   ],
   "source": [
    "NN = NeuralNet(2,2,1, n_iters = 10000, n=0.1, hidden_activation = 'Sigmoid', output_activation = 'Sigmoid')\n",
    "NN"
   ]
  },
  {
   "cell_type": "markdown",
   "metadata": {},
   "source": [
    "### Backpropagation "
   ]
  },
  {
   "cell_type": "code",
   "execution_count": 2474,
   "metadata": {},
   "outputs": [
    {
     "name": "stdout",
     "output_type": "stream",
     "text": [
      "FINAL WEIGHTS: [array([[ 6.31868971,  6.67856093],\n",
      "       [-6.03656678, -6.77110735]]), array([[-7.28714118],\n",
      "       [ 7.52303919]])]\n",
      "FINAL BIAS: [array([ 2.98914803, -3.61405983]), array([3.45345578])]\n"
     ]
    }
   ],
   "source": [
    "NN.back_propagate(X, y)"
   ]
  },
  {
   "cell_type": "markdown",
   "metadata": {},
   "source": [
    "### Predicting the outputs for the trained model"
   ]
  },
  {
   "cell_type": "code",
   "execution_count": 2475,
   "metadata": {},
   "outputs": [
    {
     "name": "stdout",
     "output_type": "stream",
     "text": [
      "[0.03601548]\n",
      "[0.95784647]\n",
      "[0.96625256]\n",
      "[0.03270889]\n"
     ]
    }
   ],
   "source": [
    "print(NN.predict([0,0]))\n",
    "print(NN.predict([0,1]))\n",
    "print(NN.predict([1,0]))\n",
    "print(NN.predict([1,1]))"
   ]
  },
  {
   "cell_type": "markdown",
   "metadata": {},
   "source": [
    "### Plotting the error curve for the model (Hidden activation = Sigmoid)"
   ]
  },
  {
   "cell_type": "code",
   "execution_count": 2477,
   "metadata": {},
   "outputs": [
    {
     "data": {
      "image/png": "[encoded data removed]",
      "text/plain": [
       "<Figure size 576x360 with 1 Axes>"
      ]
     },
     "metadata": {},
     "output_type": "display_data"
    }
   ],
   "source": [
    "NN.plot_error()"
   ]
  },
  {
   "cell_type": "markdown",
   "metadata": {},
   "source": [
    "### Plotting Decision Boundary for the model (Hidden activation = Sigmoid)"
   ]
  },
  {
   "cell_type": "code",
   "execution_count": 2478,
   "metadata": {},
   "outputs": [
    {
     "data": {
      "image/png": "[encoded data removed]",
      "text/plain": [
       "<Figure size 576x360 with 1 Axes>"
      ]
     },
     "metadata": {},
     "output_type": "display_data"
    }
   ],
   "source": [
    "NN.plot_boundary()"
   ]
  },
  {
   "cell_type": "markdown",
   "metadata": {},
   "source": [
    "### Instantitating Neural Network with hyperparameters ( Hidden activation = Relu)"
   ]
  },
  {
   "cell_type": "code",
   "execution_count": 2479,
   "metadata": {},
   "outputs": [
    {
     "name": "stdout",
     "output_type": "stream",
     "text": [
      "Random Initialized Weights: [array([[4.17022005e-01, 7.20324493e-01],\n",
      "       [1.14374817e-04, 3.02332573e-01]]), array([[0.14675589],\n",
      "       [0.09233859]])]\n",
      "Random Initialized Bias: [array([0.18626021, 0.18626021]), array([0.34556073])]\n",
      "Input layer: 2 nodes\n",
      "Hidden layer: 2 nodes\n",
      "Output layer: 1 nodes\n",
      "Learning Rate: 0.1\n",
      "Iterations: 5000\n",
      "Hidden Activation: Relu\n",
      "Output Activation: Sigmoid\n",
      "FINAL WEIGHTS: [array([[ 4.17598358,  2.62055929],\n",
      "       [-4.17636861, -2.57442728]]), array([[ 4.1389711 ],\n",
      "       [-3.09465639]])]\n",
      "FINAL BIAS: [array([-5.80125010e-05,  2.57433404e+00]), array([3.53850281])]\n"
     ]
    }
   ],
   "source": [
    "NN = NeuralNet(2,2,1, n_iters = 5000, n=0.1, hidden_activation = 'Relu', output_activation = 'Sigmoid')\n",
    "NN.back_propagate(X, y)"
   ]
  },
  {
   "cell_type": "markdown",
   "metadata": {},
   "source": [
    "### Predicting the outputs for the trained model"
   ]
  },
  {
   "cell_type": "code",
   "execution_count": 2480,
   "metadata": {},
   "outputs": [
    {
     "name": "stdout",
     "output_type": "stream",
     "text": [
      "[0.01179544]\n",
      "[0.97176366]\n",
      "[0.99138953]\n",
      "[0.01024225]\n"
     ]
    }
   ],
   "source": [
    "print(NN.predict([0,0]))\n",
    "print(NN.predict([0,1]))\n",
    "print(NN.predict([1,0]))\n",
    "print(NN.predict([1,1]))"
   ]
  },
  {
   "cell_type": "markdown",
   "metadata": {},
   "source": [
    "### Plotting the error curve for the model (Hidden activation = Relu)"
   ]
  },
  {
   "cell_type": "code",
   "execution_count": 2481,
   "metadata": {},
   "outputs": [
    {
     "data": {
      "image/png": "[encoded data removed]",
      "text/plain": [
       "<Figure size 576x360 with 1 Axes>"
      ]
     },
     "metadata": {},
     "output_type": "display_data"
    }
   ],
   "source": [
    "NN.plot_error()"
   ]
  }
 ],
 "metadata": {
  "kernelspec": {
   "display_name": "Python 3",
   "language": "python",
   "name": "python3"
  },
  "language_info": {
   "codemirror_mode": {
    "name": "ipython",
    "version": 3
   },
   "file_extension": ".py",
   "mimetype": "text/x-python",
   "name": "python",
   "nbconvert_exporter": "python",
   "pygments_lexer": "ipython3",
   "version": "3.7.4"
  }
 },
 "nbformat": 4,
 "nbformat_minor": 2
}
